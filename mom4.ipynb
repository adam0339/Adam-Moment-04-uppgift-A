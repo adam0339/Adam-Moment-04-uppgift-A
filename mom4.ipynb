{
 "metadata": {
  "language_info": {
   "codemirror_mode": {
    "name": "ipython",
    "version": 3
   },
   "file_extension": ".py",
   "mimetype": "text/x-python",
   "name": "python",
   "nbconvert_exporter": "python",
   "pygments_lexer": "ipython3",
   "version": "3.8.3"
  },
  "orig_nbformat": 2,
  "kernelspec": {
   "name": "python3",
   "display_name": "Python 3",
   "language": "python"
  }
 },
 "nbformat": 4,
 "nbformat_minor": 2,
 "cells": [
  {
   "cell_type": "code",
   "execution_count": 10,
   "metadata": {},
   "outputs": [
    {
     "output_type": "stream",
     "name": "stdout",
     "text": [
      "Detta är en liksidig fyrkantig figur\nDetta är arean 25\nHöjd | Volym\n----------\n1\n2\n3\n4\n5\n6\n7\n8\n9\n10\n"
     ]
    }
   ],
   "source": [
    "#MOMENT 4 UPPGIFT A\n",
    "\n",
    "höjd=int(input(\"ange rektangels höjd sida: \")) #jag gör så att användaren får skriva in höjden.\n",
    "bas=int(input(\"ange rektrangels bas sida: \")) #jag gör så att användaren får skriva in basen .\n",
    "arean = höjd*bas #här har jag skrivit att arean är basen gånger höjden.\n",
    "\n",
    "if höjd == bas :\n",
    "    print(\"Detta är en liksidig fyrkantig figur\") #Ifall användaren skriven in att sidorna är samma, så printas detta;\n",
    "    print(f\"Detta är arean {arean}\") #så har jag skrivit så att det printas vad aren är. \n",
    "    \n",
    "    print(\"Höjd | Volym\")\n",
    "    print(\"----------\")\n",
    "for i in range(1, 11):\n",
    "    print(i)\n",
    "    print(\"Höjd | Volym\")\n",
    "    "
   ]
  },
  {
   "cell_type": "code",
   "execution_count": null,
   "metadata": {},
   "outputs": [],
   "source": []
  }
 ]
}